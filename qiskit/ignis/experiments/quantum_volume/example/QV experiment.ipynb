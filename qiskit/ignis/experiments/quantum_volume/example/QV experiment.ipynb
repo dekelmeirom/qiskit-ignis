{
 "cells": [
  {
   "cell_type": "code",
   "execution_count": 1,
   "metadata": {},
   "outputs": [],
   "source": [
    "from qiskit.providers.aer import QasmSimulator\n",
    "from qiskit.providers.aer.noise import NoiseModel\n",
    "from qiskit.providers.aer.noise.errors.standard_errors import depolarizing_error\n",
    "from qiskit.ignis.experiments import QuantumVolumeExperiment"
   ]
  },
  {
   "cell_type": "markdown",
   "metadata": {},
   "source": [
    "### initialize some parameters"
   ]
  },
  {
   "cell_type": "code",
   "execution_count": 2,
   "metadata": {},
   "outputs": [],
   "source": [
    "qubit_lists = [[0, 1], [0, 1, 3, 5], [0, 1, 3, 5, 7]]\n",
    "ntrials = 5\n",
    "shots = 2048"
   ]
  },
  {
   "cell_type": "markdown",
   "metadata": {},
   "source": [
    "### define the backend and noise"
   ]
  },
  {
   "cell_type": "code",
   "execution_count": 3,
   "metadata": {},
   "outputs": [],
   "source": [
    "# define noise_model\n",
    "noise_model = NoiseModel()\n",
    "p1q = 0.002\n",
    "p2q = 0.02\n",
    "noise_model.add_all_qubit_quantum_error(depolarizing_error(p1q, 1), 'u2')\n",
    "noise_model.add_all_qubit_quantum_error(depolarizing_error(2 * p1q, 1), 'u3')\n",
    "noise_model.add_all_qubit_quantum_error(depolarizing_error(p2q, 2), 'cx')\n",
    "\n",
    "backend = QasmSimulator()"
   ]
  },
  {
   "cell_type": "markdown",
   "metadata": {},
   "source": [
    "### run the experiment"
   ]
  },
  {
   "cell_type": "code",
   "execution_count": 4,
   "metadata": {},
   "outputs": [
    {
     "data": {
      "text/plain": [
       "1"
      ]
     },
     "execution_count": 4,
     "metadata": {},
     "output_type": "execute_result"
    }
   ],
   "source": [
    "qv_exp = QuantumVolumeExperiment(qubits=qubit_lists, trials=ntrials)\n",
    "qv_exp.execute(backend, shots=shots, noise_model=noise_model)\n",
    "qv_exp.run_analysis()"
   ]
  },
  {
   "cell_type": "markdown",
   "metadata": {},
   "source": [
    "the result of the analysis is the final QV. we can later extract additional data from the analysis:"
   ]
  },
  {
   "cell_type": "code",
   "execution_count": 5,
   "metadata": {},
   "outputs": [
    {
     "name": "stdout",
     "output_type": "stream",
     "text": [
      "Width/depth 2 greater than 2/3 (0.741016) with confidence 0.647841 (unsuccessful).\n",
      "Width/depth 4 less than 2/3 (unsuccessful).\n",
      "Width/depth 5 less than 2/3 (unsuccessful).\n"
     ]
    }
   ],
   "source": [
    "qv_exp.analysis.print_results()"
   ]
  },
  {
   "cell_type": "markdown",
   "metadata": {},
   "source": [
    "we can add more trials and execute again. only the new trials will be executed, and the whole data (old+new) will be analysed:"
   ]
  },
  {
   "cell_type": "code",
   "execution_count": 6,
   "metadata": {},
   "outputs": [
    {
     "name": "stdout",
     "output_type": "stream",
     "text": [
      "Width/depth 2 greater than 2/3 (0.799854) with confidence 0.853748 (unsuccessful).\n",
      "Width/depth 4 less than 2/3 (unsuccessful).\n",
      "Width/depth 5 less than 2/3 (unsuccessful).\n"
     ]
    }
   ],
   "source": [
    "qv_exp.add_data(5)\n",
    "qv_exp.execute(backend, shots=shots, noise_model=noise_model)\n",
    "qv_exp.run_analysis()\n",
    "qv_exp.analysis.print_results()"
   ]
  }
 ],
 "metadata": {
  "kernelspec": {
   "display_name": "Python 3",
   "language": "python",
   "name": "python3"
  },
  "language_info": {
   "codemirror_mode": {
    "name": "ipython",
    "version": 3.0
   },
   "file_extension": ".py",
   "mimetype": "text/x-python",
   "name": "python",
   "nbconvert_exporter": "python",
   "pygments_lexer": "ipython3",
   "version": "3.7.6"
  }
 },
 "nbformat": 4,
 "nbformat_minor": 0
}