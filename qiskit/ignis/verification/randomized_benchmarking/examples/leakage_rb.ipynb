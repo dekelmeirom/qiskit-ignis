{
 "cells": [
  {
   "cell_type": "code",
   "execution_count": 2,
   "metadata": {},
   "outputs": [],
   "source": [
    "import numpy as np\n",
    "from scipy.optimize import curve_fit, root\n",
    "\n",
    "# visualization tools\n",
    "import matplotlib.pyplot as plt\n",
    "from qiskit.visualization.bloch import Bloch\n",
    "\n",
    "import qiskit.pulse as pulse\n",
    "from qiskit.pulse import Schedule, Play, Acquire, DriveChannel, AcquireChannel, MemorySlot\n",
    "from qiskit.pulse.library import Gaussian, GaussianSquare, Waveform\n",
    "from qiskit.compiler import assemble\n",
    "import qiskit\n",
    "\n",
    "from qiskit.ignis.characterization.calibrations import rabi_schedules, RabiFitter\n",
    "\n",
    "# The pulse simulator\n",
    "from qiskit.providers.aer import PulseSimulator\n",
    "\n",
    "# function for constructing duffing models\n",
    "from qiskit.providers.aer.pulse import duffing_system_model\n",
    "\n",
    "#Import the RB Functions\n",
    "import qiskit.ignis.verification.randomized_benchmarking as rb"
   ]
  },
  {
   "cell_type": "code",
   "execution_count": 3,
   "metadata": {},
   "outputs": [],
   "source": [
    "# cutoff dimension\n",
    "dim_oscillators = 3\n",
    "\n",
    "# frequencies for transmon drift terms, harmonic term and anharmonic term\n",
    "# Number of oscillators in the model is determined from len(oscillator_freqs)\n",
    "oscillator_freqs = [5.0e9]\n",
    "anharm_freqs = [-0.33e9]\n",
    "\n",
    "# drive strengths\n",
    "drive_strengths = [0.02e9]\n",
    "\n",
    "# specify coupling as a dictionary (qubits 0 and 1 are coupled with a coefficient 0.002e9)\n",
    "coupling_dict = {}\n",
    "\n",
    "# sample duration for pulse instructions \n",
    "dt = 1e-9\n",
    "\n",
    "# create the model\n",
    "one_qubit_model = duffing_system_model(dim_oscillators=dim_oscillators,\n",
    "                                       oscillator_freqs=oscillator_freqs,\n",
    "                                       anharm_freqs=anharm_freqs,\n",
    "                                       drive_strengths=drive_strengths,\n",
    "                                       coupling_dict=coupling_dict,\n",
    "                                       dt=dt)"
   ]
  },
  {
   "cell_type": "code",
   "execution_count": 74,
   "metadata": {},
   "outputs": [],
   "source": [
    "nQ = 1\n",
    "rb_pattern = [[0]]\n",
    "rb_opts = {}\n",
    "rb_opts['length_vector'] = [1, 5, 10, 15, 20, 25, 30]\n",
    "rb_opts['nseeds'] = 5\n",
    "rb_opts['rb_pattern'] = rb_pattern\n",
    "rb_circs, xdata = rb.randomized_benchmarking_seq(**rb_opts)"
   ]
  },
  {
   "cell_type": "markdown",
   "metadata": {},
   "source": [
    "### define instruction map\n",
    "in order to avoid calibration (just for making the test faster and shorter), take the instruction map from real one-qubit device"
   ]
  },
  {
   "cell_type": "code",
   "execution_count": 5,
   "metadata": {},
   "outputs": [
    {
     "name": "stderr",
     "output_type": "stream",
     "text": [
      "/Users/dekelm/opt/anaconda3/lib/python3.7/site-packages/qiskit/providers/ibmq/ibmqfactory.py:192: UserWarning: Timestamps in IBMQ backend properties, jobs, and job results are all now in local time instead of UTC.\n",
      "  warnings.warn('Timestamps in IBMQ backend properties, jobs, and job results '\n"
     ]
    }
   ],
   "source": [
    "from qiskit import IBMQ\n",
    "IBMQ.load_account()\n",
    "provider = IBMQ.get_provider(hub='ibm-q', group='open', project='main')\n",
    "real_backend = provider.get_backend('ibmq_armonk')\n",
    "backend_defaults = real_backend.defaults()"
   ]
  },
  {
   "cell_type": "code",
   "execution_count": 27,
   "metadata": {},
   "outputs": [],
   "source": [
    "real_inst_map = backend_defaults.instruction_schedule_map\n",
    "basis_gates = ['id', 'u1', 'u2', 'u3']\n",
    "schedule3 = Schedule()\n",
    "meas_map = [[0]]"
   ]
  },
  {
   "cell_type": "code",
   "execution_count": 28,
   "metadata": {},
   "outputs": [],
   "source": [
    "backend_sim = PulseSimulator()"
   ]
  },
  {
   "cell_type": "code",
   "execution_count": 75,
   "metadata": {},
   "outputs": [
    {
     "name": "stdout",
     "output_type": "stream",
     "text": [
      "-seed[0]\n",
      "-seed[1]\n",
      "-seed[2]\n",
      "-seed[3]\n",
      "-seed[4]\n",
      "-seed[5]\n",
      "-seed[6]\n",
      "-seed[0]\n",
      "-seed[1]\n",
      "-seed[2]\n",
      "-seed[3]\n",
      "-seed[4]\n",
      "-seed[5]\n",
      "-seed[6]\n",
      "-seed[0]\n",
      "-seed[1]\n",
      "-seed[2]\n",
      "-seed[3]\n",
      "-seed[4]\n",
      "-seed[5]\n",
      "-seed[6]\n",
      "-seed[0]\n",
      "-seed[1]\n",
      "-seed[2]\n",
      "-seed[3]\n",
      "-seed[4]\n",
      "-seed[5]\n",
      "-seed[6]\n",
      "-seed[0]\n",
      "-seed[1]\n",
      "-seed[2]\n",
      "-seed[3]\n",
      "-seed[4]\n",
      "-seed[5]\n",
      "-seed[6]\n"
     ]
    }
   ],
   "source": [
    "schedules = []\n",
    "for circ in rb_circs:\n",
    "    scheds_seed = []\n",
    "    for ii, circ_seed in enumerate(circ):\n",
    "        print('-seed[%d]' % ii)\n",
    "        circ_seed_transpiled = qiskit.transpile(circ_seed, backend_sim, basis_gates=basis_gates)\n",
    "        scheds_seed.append(qiskit.schedule(circ_seed_transpiled, backend_sim, inst_map=real_inst_map,\n",
    "                                           meas_map=meas_map))\n",
    "    schedules.append(scheds_seed)"
   ]
  },
  {
   "cell_type": "code",
   "execution_count": 76,
   "metadata": {},
   "outputs": [],
   "source": [
    "# compute frequencies from the Hamiltonian\n",
    "qubit_lo_freq = one_qubit_model.hamiltonian.get_qubit_lo_from_drift()"
   ]
  },
  {
   "cell_type": "markdown",
   "metadata": {},
   "source": [
    "change the qubit frequency from the calculated one, to add noise to the system"
   ]
  },
  {
   "cell_type": "code",
   "execution_count": 77,
   "metadata": {},
   "outputs": [
    {
     "name": "stdout",
     "output_type": "stream",
     "text": [
      "[5010000000.0]\n"
     ]
    }
   ],
   "source": [
    "qubit_lo_freq[0] += 10.0e6\n",
    "print(qubit_lo_freq)"
   ]
  },
  {
   "cell_type": "code",
   "execution_count": 79,
   "metadata": {},
   "outputs": [],
   "source": [
    "import warnings\n",
    "warnings.filterwarnings(\"ignore\", category=DeprecationWarning) "
   ]
  },
  {
   "cell_type": "code",
   "execution_count": 80,
   "metadata": {},
   "outputs": [
    {
     "name": "stderr",
     "output_type": "stream",
     "text": [
      "/Users/dekelm/opt/anaconda3/lib/python3.7/site-packages/qiskit/compiler/assemble.py:323: RuntimeWarning: Dynamic rep rates not supported on this backend. rep_time will be used instead of rep_delay.\n",
      "  RuntimeWarning,\n",
      "/Users/dekelm/opt/anaconda3/lib/python3.7/site-packages/qiskit/compiler/assemble.py:323: RuntimeWarning: Dynamic rep rates not supported on this backend. rep_time will be used instead of rep_delay.\n",
      "  RuntimeWarning,\n",
      "/Users/dekelm/opt/anaconda3/lib/python3.7/site-packages/qiskit/compiler/assemble.py:323: RuntimeWarning: Dynamic rep rates not supported on this backend. rep_time will be used instead of rep_delay.\n",
      "  RuntimeWarning,\n",
      "/Users/dekelm/opt/anaconda3/lib/python3.7/site-packages/qiskit/compiler/assemble.py:323: RuntimeWarning: Dynamic rep rates not supported on this backend. rep_time will be used instead of rep_delay.\n",
      "  RuntimeWarning,\n",
      "/Users/dekelm/opt/anaconda3/lib/python3.7/site-packages/qiskit/compiler/assemble.py:323: RuntimeWarning: Dynamic rep rates not supported on this backend. rep_time will be used instead of rep_delay.\n",
      "  RuntimeWarning,\n"
     ]
    }
   ],
   "source": [
    "backend_options = {'solver_options' : {'method' : 'scipy-RK45'}}\n",
    "\n",
    "results = []\n",
    "for schedule in schedules: \n",
    "    # assemble the qobj\n",
    "    qobj = assemble(schedule,\n",
    "                    backend=backend_sim,\n",
    "                    qubit_lo_freq=qubit_lo_freq,\n",
    "                    meas_level=1, \n",
    "                    meas_return='avg',\n",
    "                    shots=512)\n",
    "    \n",
    "    results.append(backend_sim.run(qobj, one_qubit_model, backend_options).result(timeout=3600))"
   ]
  },
  {
   "cell_type": "code",
   "execution_count": 81,
   "metadata": {},
   "outputs": [],
   "source": [
    "rbfitter = rb.fitters.RBFitter(results, xdata, rb_opts['rb_pattern'])"
   ]
  },
  {
   "cell_type": "code",
   "execution_count": 82,
   "metadata": {},
   "outputs": [
    {
     "data": {
      "image/png": "[encoded data removed]",
      "text/plain": [
       "<Figure size 1080x432 with 1 Axes>"
      ]
     },
     "metadata": {
      "needs_background": "light"
     },
     "output_type": "display_data"
    }
   ],
   "source": [
    "plt.figure(figsize=(15, 6))\n",
    "\n",
    "for i in range(1):\n",
    "    ax = plt.subplot(1, 2, i+1)\n",
    "    pattern_ind = i\n",
    "\n",
    "    # Plot the essence by calling plot_rb_data\n",
    "    rbfitter.plot_rb_data(pattern_ind, ax=ax, add_label=True, show_plt=False)\n",
    "\n",
    "    # Add title and label\n",
    "    ax.set_title('%d Qubit RB'%(len(rb_opts['rb_pattern'][i])), fontsize=18)\n",
    "\n",
    "plt.show()"
   ]
  },
  {
   "cell_type": "markdown",
   "metadata": {},
   "source": [
    "calculate the leakage parameters"
   ]
  },
  {
   "cell_type": "code",
   "execution_count": 83,
   "metadata": {},
   "outputs": [],
   "source": [
    "A = rbfitter._fit[0][\"params\"][0]\n",
    "alpha = rbfitter._fit[0][\"params\"][1]"
   ]
  },
  {
   "cell_type": "code",
   "execution_count": 84,
   "metadata": {},
   "outputs": [
    {
     "data": {
      "text/plain": [
       "0.02201524216936448"
      ]
     },
     "execution_count": 84,
     "metadata": {},
     "output_type": "execute_result"
    }
   ],
   "source": [
    "(1-A)*(1-alpha)  #L1"
   ]
  },
  {
   "cell_type": "code",
   "execution_count": 85,
   "metadata": {},
   "outputs": [
    {
     "data": {
      "text/plain": [
       "0.0004788367537945434"
      ]
     },
     "execution_count": 85,
     "metadata": {},
     "output_type": "execute_result"
    }
   ],
   "source": [
    "(A)*(1-alpha)  #L2"
   ]
  },
  {
   "cell_type": "code",
   "execution_count": null,
   "metadata": {},
   "outputs": [],
   "source": []
  }
 ],
 "metadata": {
  "kernelspec": {
   "display_name": "Python 3",
   "language": "python",
   "name": "python3"
  },
  "language_info": {
   "codemirror_mode": {
    "name": "ipython",
    "version": 3
   },
   "file_extension": ".py",
   "mimetype": "text/x-python",
   "name": "python",
   "nbconvert_exporter": "python",
   "pygments_lexer": "ipython3",
   "version": "3.7.6"
  }
 },
 "nbformat": 4,
 "nbformat_minor": 4
}
